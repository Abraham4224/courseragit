{
 "cells": [
  {
   "cell_type": "code",
   "execution_count": 16,
   "id": "59491428-3201-4fe6-a8d1-b8156941b81a",
   "metadata": {},
   "outputs": [
    {
     "name": "stdin",
     "output_type": "stream",
     "text": [
      "El año de publicación de este libro es:  Carrie\n"
     ]
    },
    {
     "name": "stdout",
     "output_type": "stream",
     "text": [
      "1974\n"
     ]
    }
   ],
   "source": [
    "import requests\n",
    "\n",
    "url = 'https://stephen-king-api.onrender.com/api/books'\n",
    "response = requests.get(url).json()\n",
    "indice = {libro['Title']: libro['Year'] for libro in response['data']}\n",
    "titulo = input(\"El año de publicación de este libro es: \")\n",
    "print(indice[titulo])"
   ]
  },
  {
   "cell_type": "code",
   "execution_count": null,
   "id": "de3d9801-5e4c-40f4-9898-bf56cbee05ed",
   "metadata": {},
   "outputs": [],
   "source": []
  }
 ],
 "metadata": {
  "kernelspec": {
   "display_name": "Python 3 (ipykernel)",
   "language": "python",
   "name": "python3"
  },
  "language_info": {
   "codemirror_mode": {
    "name": "ipython",
    "version": 3
   },
   "file_extension": ".py",
   "mimetype": "text/x-python",
   "name": "python",
   "nbconvert_exporter": "python",
   "pygments_lexer": "ipython3",
   "version": "3.12.6"
  }
 },
 "nbformat": 4,
 "nbformat_minor": 5
}
