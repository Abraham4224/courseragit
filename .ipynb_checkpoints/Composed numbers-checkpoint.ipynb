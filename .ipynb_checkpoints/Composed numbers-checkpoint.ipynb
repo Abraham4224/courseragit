{
 "cells": [
  {
   "cell_type": "code",
   "execution_count": 1,
   "id": "0ec04a59",
   "metadata": {},
   "outputs": [
    {
     "name": "stdout",
     "output_type": "stream",
     "text": [
      "[3, 5]\n"
     ]
    }
   ],
   "source": [
    "def Calculate(number):\n",
    "    i = 2\n",
    "    factors=[]\n",
    "    while i*i <= number:\n",
    "        if number % i == 0:\n",
    "            factors.append(i)\n",
    "            number = number // i\n",
    "        else:\n",
    "            i=i+1\n",
    "    if number > 1:\n",
    "        factors.append(number)\n",
    "    return factors\n",
    "print(Calculate(15))    "
   ]
  },
  {
   "cell_type": "markdown",
   "id": "ce2592ca-ceb1-4970-973b-6242875f103b",
   "metadata": {},
   "source": [
    "\n",
    "### Esta es solo una demostración ahora que he implementado Python 3.12 en Jupyter Notebook\n"
   ]
  },
  {
   "cell_type": "raw",
   "id": "6cc95712-5f97-49c9-8522-e71a72d9efc8",
   "metadata": {},
   "source": [
    "Para GitHub"
   ]
  },
  {
   "cell_type": "code",
   "execution_count": null,
   "id": "11e9962c-f6f8-41b7-8082-cbc06a34e636",
   "metadata": {},
   "outputs": [],
   "source": []
  }
 ],
 "metadata": {
  "kernelspec": {
   "display_name": "Python 3 (ipykernel)",
   "language": "python",
   "name": "python3"
  },
  "language_info": {
   "codemirror_mode": {
    "name": "ipython",
    "version": 3
   },
   "file_extension": ".py",
   "mimetype": "text/x-python",
   "name": "python",
   "nbconvert_exporter": "python",
   "pygments_lexer": "ipython3",
   "version": "3.12.6"
  }
 },
 "nbformat": 4,
 "nbformat_minor": 5
}
