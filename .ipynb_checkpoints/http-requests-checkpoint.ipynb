{
 "cells": [
  {
   "cell_type": "code",
   "execution_count": 8,
   "id": "4ad1d538-d159-4c4c-aeae-665e76c672d3",
   "metadata": {},
   "outputs": [
    {
     "name": "stdout",
     "output_type": "stream",
     "text": [
      "{'title': 'Napoleon & Wellington', 'body': 'Grandes rivales de la historia', 'userId': 1, 'id': 101}\n"
     ]
    }
   ],
   "source": [
    "import requests \n",
    "\n",
    "nuevo_post = {\n",
    "    \"title\": \"Napoleon & Wellington\",\n",
    "    \"body\":\"Grandes rivales de la historia\",\n",
    "    \"userId\":1}\n",
    "response=requests.post(\"https://jsonplaceholder.typicode.com/posts\",json=nuevo_post)\n",
    "print(response.json())"
   ]
  },
  {
   "cell_type": "code",
   "execution_count": 10,
   "id": "9ad78890-f594-488b-b0d4-4e09016abcae",
   "metadata": {},
   "outputs": [
    {
     "name": "stdout",
     "output_type": "stream",
     "text": [
      "{'id': 1, 'title': 'Post actualizado', 'body': 'Contenido nuevo', 'userId': 1}\n"
     ]
    }
   ],
   "source": [
    "actualizacion = {\n",
    "    \"id\": 1,\n",
    "    \"title\": \"Post actualizado\",\n",
    "    \"body\": \"Contenido nuevo\",\n",
    "    \"userId\": 1\n",
    "}\n",
    "respuesta = requests.put(\"https://jsonplaceholder.typicode.com/posts/1\",json=actualizacion)\n",
    "print(respuesta.json())"
   ]
  },
  {
   "cell_type": "code",
   "execution_count": 11,
   "id": "0ffbdebf-14de-4c39-97fd-e22789d5bf4e",
   "metadata": {},
   "outputs": [
    {
     "name": "stdout",
     "output_type": "stream",
     "text": [
      "Código de estado: 200\n"
     ]
    }
   ],
   "source": [
    "responses = requests.delete(\"https://jsonplaceholder.typicode.com/posts/1\")\n",
    "print(\"Código de estado:\", responses.status_code) "
   ]
  },
  {
   "cell_type": "code",
   "execution_count": null,
   "id": "6e134daa-851c-4aa5-ba30-825790e3f084",
   "metadata": {},
   "outputs": [],
   "source": []
  }
 ],
 "metadata": {
  "kernelspec": {
   "display_name": "Python 3 (ipykernel)",
   "language": "python",
   "name": "python3"
  },
  "language_info": {
   "codemirror_mode": {
    "name": "ipython",
    "version": 3
   },
   "file_extension": ".py",
   "mimetype": "text/x-python",
   "name": "python",
   "nbconvert_exporter": "python",
   "pygments_lexer": "ipython3",
   "version": "3.12.6"
  }
 },
 "nbformat": 4,
 "nbformat_minor": 5
}
