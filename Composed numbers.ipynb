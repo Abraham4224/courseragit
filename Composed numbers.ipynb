{
 "cells": [
  {
   "cell_type": "code",
   "execution_count": null,
   "id": "0ec04a59",
   "metadata": {},
   "outputs": [],
   "source": [
    "def Calculate(number):\n",
    "    i = 2\n",
    "    factors=[]\n",
    "    while i*i <= number:\n",
    "        if number % i == 0:\n",
    "            factors.append(i)\n",
    "            number = number // i\n",
    "        else:\n",
    "            i=i+1\n",
    "    if number > 1:\n",
    "        factors.append(number)\n",
    "    return factors\n",
    "print(Calculate(15))    "
   ]
  },
  {
   "cell_type": "code",
   "execution_count": null,
   "id": "fae24459",
   "metadata": {},
   "outputs": [],
   "source": []
  }
 ],
 "metadata": {
  "kernelspec": {
   "display_name": "Python 3.13",
   "language": "python",
   "name": "py313"
  },
  "language_info": {
   "codemirror_mode": {
    "name": "ipython",
    "version": 3
   },
   "file_extension": ".py",
   "mimetype": "text/x-python",
   "name": "python",
   "nbconvert_exporter": "python",
   "pygments_lexer": "ipython3",
   "version": "3.13.0"
  }
 },
 "nbformat": 4,
 "nbformat_minor": 5
}
