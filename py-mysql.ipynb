{
 "cells": [
  {
   "cell_type": "code",
   "execution_count": 2,
   "id": "d85cf02e-8aa0-473d-ad6e-ff91b1281f5c",
   "metadata": {},
   "outputs": [],
   "source": [
    "import mysql.connector as connector \n",
    "from mysql.connector import errorcode"
   ]
  },
  {
   "cell_type": "code",
   "execution_count": null,
   "id": "895cc804-5e71-434f-9ebf-4591a5ca4ab3",
   "metadata": {},
   "outputs": [],
   "source": [
    "connection = connector.connect(host = \"localhost\",database= \"nombredelabase\",user=\"example-user\",password = \"cuisine\")"
   ]
  },
  {
   "cell_type": "code",
   "execution_count": null,
   "id": "5f662d3d-7241-476f-bb17-02e04be45433",
   "metadata": {},
   "outputs": [],
   "source": [
    "connections = connector.connect(\n",
    "    host=\"ip_publica_o_dominio_de_ec2\",\n",
    "    database=\"nombre_de_la_base_de_datos\",\n",
    "    user=\"tu_usuario\",\n",
    "    password=\"tu_contraseña\",\n",
    "    port=3306  # opcional, ya que 3306 es el puerto por defecto\n",
    ") ### Esto es un ejemplo de como conectarse a una base de datos en una instancia EC2"
   ]
  },
  {
   "cell_type": "code",
   "execution_count": 5,
   "id": "412f5a1a-7fd5-496b-bb14-a5e1e6f5a4ee",
   "metadata": {},
   "outputs": [
    {
     "name": "stdout",
     "output_type": "stream",
     "text": [
      "2003 (HY000): Can't connect to MySQL server on '127.0.0.1:3306' (10061)\n"
     ]
    }
   ],
   "source": [
    "#Manejar errores usando errorcode\n",
    "\n",
    "try:\n",
    "    conn = connector.connect(user=\"wellington\", password = \"salamanca\", database = \"vitoria\")\n",
    "except connector.Error as err:\n",
    "    if err.errno == errorcode.ER_ACCESS_DENIED_ERROR:\n",
    "        print(\"connection user or password are incorrect\")\n",
    "    elif err.errno == errorcode.ER_BAD_DB_ERROR:\n",
    "        print(\"database does not exist\")\n",
    "    else:\n",
    "        print(err)"
   ]
  },
  {
   "cell_type": "code",
   "execution_count": 6,
   "id": "dea4a246-c2e6-4a42-acc5-3a18ba43d00f",
   "metadata": {},
   "outputs": [
    {
     "name": "stdout",
     "output_type": "stream",
     "text": [
      "Error code: 2003\n",
      "Error message: Can't connect to MySQL server on '127.0.0.1:3306' (10061)\n"
     ]
    }
   ],
   "source": [
    "try:\n",
    "    connection=connector.connect(\n",
    "        user=\"ameta\",\n",
    "        password=\"password\",\n",
    "        database = \"no_database\")\n",
    "\n",
    "except connector.Error as er:\n",
    "    print(\"Error code:\", er.errno)\n",
    "    print(\"Error message:\", er.msg)"
   ]
  },
  {
   "cell_type": "code",
   "execution_count": null,
   "id": "a259f686-6f25-494e-abf1-474170081ce0",
   "metadata": {},
   "outputs": [],
   "source": []
  }
 ],
 "metadata": {
  "kernelspec": {
   "display_name": "Python 3 (ipykernel)",
   "language": "python",
   "name": "python3"
  },
  "language_info": {
   "codemirror_mode": {
    "name": "ipython",
    "version": 3
   },
   "file_extension": ".py",
   "mimetype": "text/x-python",
   "name": "python",
   "nbconvert_exporter": "python",
   "pygments_lexer": "ipython3",
   "version": "3.12.6"
  }
 },
 "nbformat": 4,
 "nbformat_minor": 5
}
