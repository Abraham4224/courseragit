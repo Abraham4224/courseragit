{
 "cells": [
  {
   "cell_type": "code",
   "execution_count": 3,
   "id": "3f821de0-3e73-4ce1-bdfa-b8ca966aca5d",
   "metadata": {},
   "outputs": [
    {
     "name": "stdout",
     "output_type": "stream",
     "text": [
      "6\n"
     ]
    }
   ],
   "source": [
    "def sumar(*args):\n",
    "    return sum(args)\n",
    "\n",
    "print(sumar(2,4))    "
   ]
  },
  {
   "cell_type": "code",
   "execution_count": 7,
   "id": "cd8a22ac-f1f0-492d-b140-2476fead4d65",
   "metadata": {},
   "outputs": [
    {
     "name": "stdout",
     "output_type": "stream",
     "text": [
      "duque : Wellington\n",
      "emperador : Napoleon\n"
     ]
    }
   ],
   "source": [
    "def info(**kwargs):\n",
    "    for key,value in kwargs.items():\n",
    "        print(f\"{key} : {value}\")\n",
    "\n",
    "info(duque=\"Wellington\", emperador = \"Napoleon\")"
   ]
  },
  {
   "cell_type": "code",
   "execution_count": 8,
   "id": "c1d3da28-b8b6-4ea6-899f-5425a568237f",
   "metadata": {},
   "outputs": [
    {
     "name": "stdout",
     "output_type": "stream",
     "text": [
      "a: 4\n",
      "args: ('Hola', 2)\n",
      "kwargs: {'Duque': 'Marlborough', 'Emperador': 'Augusto'}\n"
     ]
    }
   ],
   "source": [
    "def demo(a,*args,**kwargs):\n",
    "    print(\"a:\",a)\n",
    "    print(\"args:\",args)\n",
    "    print(\"kwargs:\",kwargs)\n",
    "\n",
    "demo(4, \"Hola\",2,Duque=\"Marlborough\",Emperador=\"Augusto\")    "
   ]
  },
  {
   "cell_type": "code",
   "execution_count": null,
   "id": "99ce5373-ca87-4fd8-b146-b1de848df175",
   "metadata": {},
   "outputs": [],
   "source": []
  }
 ],
 "metadata": {
  "kernelspec": {
   "display_name": "Python 3 (ipykernel)",
   "language": "python",
   "name": "python3"
  },
  "language_info": {
   "codemirror_mode": {
    "name": "ipython",
    "version": 3
   },
   "file_extension": ".py",
   "mimetype": "text/x-python",
   "name": "python",
   "nbconvert_exporter": "python",
   "pygments_lexer": "ipython3",
   "version": "3.12.6"
  }
 },
 "nbformat": 4,
 "nbformat_minor": 5
}
